{
 "cells": [
  {
   "cell_type": "markdown",
   "metadata": {},
   "source": [
    "### Réponse 15:"
   ]
  },
  {
   "cell_type": "code",
   "execution_count": 5,
   "metadata": {},
   "outputs": [],
   "source": [
    "import pandas as pd #importer une bibliothèque d'analyse de données\n",
    "df = pd.DataFrame(pd.read_csv(\"fr_population.csv\")) #lire la base de donnée avec l'objet de pandas \"data frame\" est une présentation des données sous forme d'un tableau \n",
    "pop=df.loc[df['Zone']!=\"Chine\",['Code zone','Zone','Valeur','Année']]\n",
    "pop.to_csv(\"pop.csv\",sep=',', index = False) # enregistrer les données d dans un fichiers csv"
   ]
  },
  {
   "cell_type": "markdown",
   "metadata": {},
   "source": [
    "### Réponse 16:"
   ]
  },
  {
   "cell_type": "code",
   "execution_count": 2,
   "metadata": {},
   "outputs": [],
   "source": [
    "df_veg=pd.DataFrame(pd.read_csv(\"fr_vegetaux.csv\"))#lire la base de donnée \n",
    "df_veg['origine']=\"végétal\" #ajouter une colonne pour préciser l'origine de produit \n",
    "df_ani=pd.DataFrame(pd.read_csv(\"fr_animaux.csv\")) #lire la base de donnée \n",
    "df_ani['origine']=\"animal\" # ajouter une colonne pour préciser l'origine de produit \n",
    "df_ani_veg=pd.concat([df_ani, df_veg], ignore_index=True) # faire concatiner les deux tableaux fr_ani fr_veg pour avoir tous les produits dans un seul tab\n",
    "piv=df_ani_veg.pivot_table(index=['Code zone','Zone','Code Produit','Produit','Année','origine'],columns='Élément',values='Valeur')#utiliser des éléments présentes dans colonne \"Élément\" comme noms de colonnes \n",
    "piv.reset_index(inplace=True)# réintégrer les lignes de l'index comme colonnes simples\n",
    "piv['Disponibilité alimentaire en quantité (tonnes/personne/an)']=piv['Disponibilité alimentaire en quantité (kg/personne/an)']/1000 # convertir d'unités de kg en tonnes\n",
    "Disp=piv.loc[piv['Zone']!=\"Chine\",['Code zone','Zone','Code Produit','Produit','Année','origine','Disponibilité alimentaire (Kcal/personne/jour)','Disponibilité de matière grasse en quantité (g/personne/jour)','Disponibilité alimentaire en quantité (tonnes/personne/an)','Disponibilité de protéines en quantité (g/personne/jour)']]\n",
    "Disp.to_csv(\"disp.csv\",sep=',', index = False) # enregistrer les données Disp dans un fichiers csv"
   ]
  },
  {
   "cell_type": "markdown",
   "metadata": {},
   "source": [
    "### Réponse 17:"
   ]
  },
  {
   "cell_type": "code",
   "execution_count": 6,
   "metadata": {},
   "outputs": [],
   "source": [
    "prod=piv.loc[piv['Zone']!=\"Chine\",['Code zone','Zone','Code Produit','Produit','Année','Disponibilité intérieure','Semences','Pertes','Traitement','Aliments pour animaux','Nourriture','Autres utilisations (non alimentaire)']]\n",
    "prod.to_csv(\"equilibre.csv\",sep=',', index = False)# enregistrer les données prod dans un fichiers csv"
   ]
  },
  {
   "cell_type": "markdown",
   "metadata": {},
   "source": [
    "### Réponse 18:"
   ]
  },
  {
   "cell_type": "code",
   "execution_count": 10,
   "metadata": {},
   "outputs": [],
   "source": [
    "df_sous_ali = pd.DataFrame(pd.read_csv(\"fr_sousalimentation.csv\"))#lire la base de donnée  \n",
    "df_sous_ali_2013=df_sous_ali.loc[(df_sous_ali['Année']==\"2012-2014\")&(df_sous_ali['Zone']!=\"Chine\"),['Code zone','Zone','Année','Valeur']].copy() # selectionner les données en 2013 \n",
    "df_sous_ali_2013.to_csv(\"s_nutrition.csv\",sep=',', index = False)# enregistrer les données df_sous_ali_2013 dans un fichiers csv"
   ]
  },
  {
   "cell_type": "code",
   "execution_count": null,
   "metadata": {},
   "outputs": [],
   "source": []
  }
 ],
 "metadata": {
  "kernelspec": {
   "display_name": "Python 3",
   "language": "python",
   "name": "python3"
  },
  "language_info": {
   "codemirror_mode": {
    "name": "ipython",
    "version": 3
   },
   "file_extension": ".py",
   "mimetype": "text/x-python",
   "name": "python",
   "nbconvert_exporter": "python",
   "pygments_lexer": "ipython3",
   "version": "3.8.3"
  }
 },
 "nbformat": 4,
 "nbformat_minor": 4
}
